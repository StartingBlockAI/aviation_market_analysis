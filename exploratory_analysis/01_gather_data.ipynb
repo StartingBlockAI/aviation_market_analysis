{
 "cells": [
  {
   "attachments": {},
   "cell_type": "markdown",
   "metadata": {},
   "source": [
    "# This Notebook Will Gather Data from FAA Website"
   ]
  },
  {
   "cell_type": "code",
   "execution_count": 69,
   "metadata": {},
   "outputs": [],
   "source": [
    "import requests\n",
    "from pathlib import Path\n",
    "import os\n",
    "import zipfile"
   ]
  },
  {
   "cell_type": "code",
   "execution_count": 70,
   "metadata": {},
   "outputs": [],
   "source": [
    "url = \"https://www.faa.gov/licenses_certificates/aircraft_certification/aircraft_registry/releasable_aircraft_download\""
   ]
  },
  {
   "cell_type": "code",
   "execution_count": 71,
   "metadata": {},
   "outputs": [],
   "source": [
    "response = requests.get(url)\n",
    "html_content = response.text"
   ]
  },
  {
   "cell_type": "code",
   "execution_count": 72,
   "metadata": {},
   "outputs": [],
   "source": [
    "from bs4 import BeautifulSoup\n",
    "\n",
    "soup = BeautifulSoup(html_content, \"html.parser\")"
   ]
  },
  {
   "cell_type": "code",
   "execution_count": 73,
   "metadata": {},
   "outputs": [],
   "source": [
    "download_links = []\n",
    "for link in soup.find_all(\"a\"):\n",
    "    if \"Aircraft Registration Database\" in link.text:\n",
    "        download_links.append(link.get(\"href\"))"
   ]
  },
  {
   "cell_type": "code",
   "execution_count": 74,
   "metadata": {},
   "outputs": [
    {
     "data": {
      "text/plain": [
       "['https://registry.faa.gov/database/ReleasableAircraft.zip',\n",
       " 'https://registry.faa.gov/database/yearly/ReleasableAircraft.2013.zip',\n",
       " 'https://registry.faa.gov/database/yearly/ReleasableAircraft.2014.zip',\n",
       " 'https://registry.faa.gov/database/yearly/ReleasableAircraft.2015.zip',\n",
       " 'https://registry.faa.gov/database/yearly/ReleasableAircraft.2016.zip',\n",
       " 'https://registry.faa.gov/database/yearly/ReleasableAircraft.2017.zip',\n",
       " 'https://registry.faa.gov/database/yearly/ReleasableAircraft.2018.zip',\n",
       " 'https://registry.faa.gov/database/yearly/ReleasableAircraft.2019.zip',\n",
       " 'https://registry.faa.gov/database/yearly/ReleasableAircraft.2020.zip',\n",
       " 'https://registry.faa.gov/database/yearly/ReleasableAircraft.2021.zip',\n",
       " 'https://registry.faa.gov/database/yearly/ReleasableAircraft.2022.zip']"
      ]
     },
     "execution_count": 74,
     "metadata": {},
     "output_type": "execute_result"
    }
   ],
   "source": [
    "download_links"
   ]
  },
  {
   "cell_type": "code",
   "execution_count": 75,
   "metadata": {},
   "outputs": [],
   "source": [
    "download_folder = Path(\"../data/raw/\")\n",
    "os.makedirs(download_folder, exist_ok=True)"
   ]
  },
  {
   "cell_type": "code",
   "execution_count": 76,
   "metadata": {},
   "outputs": [
    {
     "name": "stdout",
     "output_type": "stream",
     "text": [
      "Downloading https://registry.faa.gov/database/ReleasableAircraft.zip to ..\\data\\raw\\ReleasableAircraft.zip...\n",
      "Downloading https://registry.faa.gov/database/yearly/ReleasableAircraft.2013.zip to ..\\data\\raw\\ReleasableAircraft.2013.zip...\n",
      "Downloading https://registry.faa.gov/database/yearly/ReleasableAircraft.2014.zip to ..\\data\\raw\\ReleasableAircraft.2014.zip...\n",
      "Downloading https://registry.faa.gov/database/yearly/ReleasableAircraft.2015.zip to ..\\data\\raw\\ReleasableAircraft.2015.zip...\n",
      "Downloading https://registry.faa.gov/database/yearly/ReleasableAircraft.2016.zip to ..\\data\\raw\\ReleasableAircraft.2016.zip...\n",
      "Downloading https://registry.faa.gov/database/yearly/ReleasableAircraft.2017.zip to ..\\data\\raw\\ReleasableAircraft.2017.zip...\n",
      "Downloading https://registry.faa.gov/database/yearly/ReleasableAircraft.2018.zip to ..\\data\\raw\\ReleasableAircraft.2018.zip...\n",
      "Downloading https://registry.faa.gov/database/yearly/ReleasableAircraft.2019.zip to ..\\data\\raw\\ReleasableAircraft.2019.zip...\n",
      "Downloading https://registry.faa.gov/database/yearly/ReleasableAircraft.2020.zip to ..\\data\\raw\\ReleasableAircraft.2020.zip...\n",
      "Downloading https://registry.faa.gov/database/yearly/ReleasableAircraft.2021.zip to ..\\data\\raw\\ReleasableAircraft.2021.zip...\n",
      "Downloading https://registry.faa.gov/database/yearly/ReleasableAircraft.2022.zip to ..\\data\\raw\\ReleasableAircraft.2022.zip...\n"
     ]
    }
   ],
   "source": [
    "headers = {\"User-agent\": \"Mozilla/5.0 (Windows NT 10.0; Win64; x64) AppleWebKit/537.36 (KHTML, like Gecko) Chrome/114.0.0.0 Safari/537.36\"}\n",
    "\n",
    "for link in download_links:\n",
    "    file_name = link.split(\"/\")[-1]\n",
    "    file_path = os.path.join(download_folder, file_name)\n",
    "    print(f\"Downloading {link} to {file_path}...\")\n",
    "\n",
    "    response = requests.get(link, stream=True, allow_redirects=False, headers = headers)\n",
    "    with open(file_path, \"wb\") as file:\n",
    "        for chunk in response.iter_content(chunk_size=1024):\n",
    "            file.write(chunk)"
   ]
  },
  {
   "cell_type": "code",
   "execution_count": 82,
   "metadata": {},
   "outputs": [
    {
     "name": "stdout",
     "output_type": "stream",
     "text": [
      "ReleasableAircraft.zip\n",
      "..\\data\\raw\\ReleasableAircraft.zip\n",
      "Extracted files for year ../data/extracted\\ReleasableAircraft\n",
      "ReleasableAircraft.2013.zip\n",
      "..\\data\\raw\\ReleasableAircraft.2013.zip\n",
      "Extracted files for year ../data/extracted\\ReleasableAircraft.2013\n",
      "ReleasableAircraft.2014.zip\n",
      "..\\data\\raw\\ReleasableAircraft.2014.zip\n",
      "Extracted files for year ../data/extracted\\ReleasableAircraft.2014\n",
      "ReleasableAircraft.2015.zip\n",
      "..\\data\\raw\\ReleasableAircraft.2015.zip\n",
      "Extracted files for year ../data/extracted\\ReleasableAircraft.2015\n",
      "ReleasableAircraft.2016.zip\n",
      "..\\data\\raw\\ReleasableAircraft.2016.zip\n",
      "Extracted files for year ../data/extracted\\ReleasableAircraft.2016\n",
      "ReleasableAircraft.2017.zip\n",
      "..\\data\\raw\\ReleasableAircraft.2017.zip\n",
      "Extracted files for year ../data/extracted\\ReleasableAircraft.2017\n",
      "ReleasableAircraft.2018.zip\n",
      "..\\data\\raw\\ReleasableAircraft.2018.zip\n",
      "Extracted files for year ../data/extracted\\ReleasableAircraft.2018\n",
      "ReleasableAircraft.2019.zip\n",
      "..\\data\\raw\\ReleasableAircraft.2019.zip\n",
      "Extracted files for year ../data/extracted\\ReleasableAircraft.2019\n",
      "ReleasableAircraft.2020.zip\n",
      "..\\data\\raw\\ReleasableAircraft.2020.zip\n",
      "Extracted files for year ../data/extracted\\ReleasableAircraft.2020\n",
      "ReleasableAircraft.2021.zip\n",
      "..\\data\\raw\\ReleasableAircraft.2021.zip\n",
      "Extracted files for year ../data/extracted\\ReleasableAircraft.2021\n",
      "ReleasableAircraft.2022.zip\n",
      "..\\data\\raw\\ReleasableAircraft.2022.zip\n",
      "Extracted files for year ../data/extracted\\ReleasableAircraft.2022\n",
      "Extraction complete!\n"
     ]
    }
   ],
   "source": [
    "# Specify the path to the extraction folder\n",
    "extraction_folder = \"../data/extracted\"\n",
    "\n",
    "# Create the extraction folder if it doesn't exist\n",
    "if not os.path.exists(extraction_folder):\n",
    "    os.makedirs(extraction_folder)\n",
    "\n",
    "# Extract the files\n",
    "for link in download_links:\n",
    "    # Construct the path to the zip file\n",
    "    file_name = link.split(\"/\")[-1]\n",
    "    print(file_name)\n",
    "    zip_file_path = os.path.join(download_folder, file_name )\n",
    "    print(zip_file_path)\n",
    "\n",
    "    # Construct the path to the extraction directory\n",
    "    year_folder = os.path.join(extraction_folder, file_name.rsplit(\".\", 1)[0])\n",
    "\n",
    "    # Create the year folder if it doesn't exist\n",
    "    if not os.path.exists(year_folder):\n",
    "        os.makedirs(year_folder)\n",
    "\n",
    "    # Extract the zip file\n",
    "    with zipfile.ZipFile(zip_file_path, \"r\") as zip_ref:\n",
    "        zip_ref.extractall(year_folder)\n",
    "\n",
    "    print(f\"Extracted files for year {year_folder}\")\n",
    "\n",
    "print(\"Extraction complete!\")"
   ]
  }
 ],
 "metadata": {
  "kernelspec": {
   "display_name": "faa_data",
   "language": "python",
   "name": "python3"
  },
  "language_info": {
   "codemirror_mode": {
    "name": "ipython",
    "version": 3
   },
   "file_extension": ".py",
   "mimetype": "text/x-python",
   "name": "python",
   "nbconvert_exporter": "python",
   "pygments_lexer": "ipython3",
   "version": "3.11.3"
  },
  "orig_nbformat": 4
 },
 "nbformat": 4,
 "nbformat_minor": 2
}
